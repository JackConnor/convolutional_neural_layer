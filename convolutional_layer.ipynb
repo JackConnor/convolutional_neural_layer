{
 "cells": [
  {
   "cell_type": "code",
   "execution_count": 150,
   "metadata": {},
   "outputs": [],
   "source": [
    "import matplotlib.pyplot as plt\n",
    "import matplotlib as pmimg\n",
    "import numpy as np\n",
    "import skimage\n",
    "from skimage import color\n",
    "from skimage import data\n",
    "from skimage import io\n",
    "from tqdm import tqdm\n",
    "import cv2\n",
    "\n",
    "import os \n",
    "dir_path = os.getcwd()"
   ]
  },
  {
   "cell_type": "code",
   "execution_count": 151,
   "metadata": {},
   "outputs": [],
   "source": [
    "def oneHot(imgTitle):\n",
    "    animalLabel = imgTitle.split('.')[0][-3:]\n",
    "    return animalLabel"
   ]
  },
  {
   "cell_type": "code",
   "execution_count": 152,
   "metadata": {},
   "outputs": [
    {
     "name": "stderr",
     "output_type": "stream",
     "text": [
      "100%|██████████| 25000/25000 [00:24<00:00, 1032.98it/s]\n"
     ]
    }
   ],
   "source": [
    "def createTrainSet():\n",
    "    trainingSet = []\n",
    "#     data_dir = '/Users/Jack/Documents/ml/ml_book/DogOrCat/data/practice-train'\n",
    "    data_dir = '/Users/Jack/Documents/ml/ml_book/DogOrCat/data/alternate_data/train'\n",
    "    for imgLabel in tqdm(os.listdir(data_dir)):\n",
    "        animalLabel = oneHot(imgLabel)\n",
    "        #dog = [1, 0], cat = [0,1]\n",
    "        oneHotLabel = []\n",
    "        if animalLabel == 'dog':\n",
    "            oneHotLabel = [1, 0]\n",
    "        elif animalLabel == 'cat':\n",
    "            oneHotLabel = [0, 1]\n",
    "        else:\n",
    "            print('nada')\n",
    "            continue\n",
    "        imgPath = os.path.join(data_dir, imgLabel)\n",
    "        imgObj = cv2.imread(imgPath, cv2.IMREAD_GRAYSCALE)\n",
    "        imgObj = cv2.resize(imgObj, (50, 50))\n",
    "\n",
    "        trainingSet.append([imgObj, oneHotLabel])\n",
    "    return trainingSet\n",
    "\n",
    "train = createTrainSet()"
   ]
  },
  {
   "cell_type": "code",
   "execution_count": null,
   "metadata": {},
   "outputs": [],
   "source": []
  },
  {
   "cell_type": "code",
   "execution_count": 167,
   "metadata": {},
   "outputs": [],
   "source": [
    "def convolve_2d(img, filter, padding=0, stride=1, depth=1):\n",
    "    outputDim = len(img[0]) - len(filter[0]) + (2*padding) * stride + 1\n",
    "    resultArr = np.zeros((depth, outputDim, outputDim), dtype=int)\n",
    "    filterLength = len(filter)\n",
    "    print(img)\n",
    "    print('===== ^^ =====')\n",
    "    for zIdx in range(depth):\n",
    "        for yIdx in range(outputDim):\n",
    "            for xIdx in range(outputDim):\n",
    "                window = np.zeros((filterLength, filterLength), dtype=int)\n",
    "\n",
    "                windowYIdx = 0 + yIdx\n",
    "                while windowYIdx < (len(filter) + yIdx):\n",
    "                    windowXEnd = xIdx + len(filter)\n",
    "                    currRow = np.array(img[windowYIdx][xIdx:windowXEnd])\n",
    "                    window[windowYIdx - yIdx] = currRow\n",
    "                    windowYIdx += 1\n",
    "\n",
    "                filteredWindow = window * filter\n",
    "                nodeValue = np.average(filteredWindow)\n",
    "                resultArr[zIdx][yIdx][xIdx] = nodeValue\n",
    "    \n",
    "    return resultArr\n",
    "    #Boom!\n",
    "\n",
    "side_detector_layer = np.array([\n",
    "    [-1, 0, 1],\n",
    "    [-1, 0, 1],\n",
    "    [-1, 0, 1]\n",
    "])\n",
    "\n",
    "\n",
    "reverse_side_detector_layer = np.array([\n",
    "    [1, 0, -1],\n",
    "    [1, 0, -1],\n",
    "    [1, 0, -1]\n",
    "])\n",
    "\n",
    "top_bottom_detector_layer = np.array([\n",
    "    [1, 1, 1],\n",
    "    [0, 0, 0],\n",
    "    [-1, -1, 1]\n",
    "])\n",
    "\n",
    "angle_detector_layer = np.array([\n",
    "    [0, 1, 1],\n",
    "    [-1, 0, 1],\n",
    "    [-1, -1, 0]\n",
    "])\n",
    "\n",
    "\n",
    "top_detector_layer = np.array([\n",
    "    [1, 1, 1],\n",
    "    [-1, -1, -1],\n",
    "    [-1, -1, -1]\n",
    "])\n",
    "\n",
    "right_knight_detector_layer = np.array([\n",
    "    [1, 1, 1, 1, 1],\n",
    "    [1, 1, 1, 1, 1],\n",
    "    [0, 0, 0, 1, 1],\n",
    "    [0, 0, 0, 1, 1],\n",
    "    [0, 0, 0, 1, 1]\n",
    "]);\n",
    "small_angle_detector_layer = np.array([\n",
    "    [1, 1, 0],\n",
    "    [1, 0, 1],\n",
    "    [0, 1, 1],\n",
    "])\n",
    "\n",
    "\n",
    "left_knight_detector_layer = np.array([\n",
    "    [1, 1, 1, 1, 1],\n",
    "    [1, 1, 1, 1, 1],\n",
    "    [1, 1, 0, 0, 0],\n",
    "    [1, 1, 0, 0, 0],\n",
    "    [1, 1, 0, 0, 0]\n",
    "]);\n",
    "\n",
    "big_edge_detector = np.array([\n",
    "    [1, 1, 1, 1, 1, 1, 1, 1, 0, 0],\n",
    "    [1, 1, 1, 1, 1, 1, 1, 0, 0, 0],\n",
    "    [1, 1, 1, 1, 1, 1, 0, 0, 0, 0],\n",
    "    [1, 1, 1, 1, 1, 0, 0, 0, 0, 1],\n",
    "    [1, 1, 1, 1, 0, 0, 0, 0, 1, 1],\n",
    "    [1, 1, 1, 0, 0, 0, 0, 1, 1, 1],\n",
    "    [1, 1, 0, 0, 0, 0, 1, 1, 1, 1],\n",
    "    [1, 0, 0, 0, 0, 1, 1, 1, 1, 1],\n",
    "    [0, 0, 0, 0, 1, 1, 1, 1, 1, 1],\n",
    "    [0, 0, 0, 1, 1, 1, 1, 1, 1, 1],\n",
    "])\n",
    "\n",
    "\n",
    "reverse_big_edge_detector = np.array([\n",
    "    [0, 0, 0, 1, 1, 1, 1, 1, 1, 1],\n",
    "    [0, 0, 0, 0, 1, 1, 1, 1, 1, 1],\n",
    "    [1, 0, 0, 0, 0, 1, 1, 1, 1, 1],\n",
    "    [1, 1, 0, 0, 0, 0, 1, 1, 1, 1],\n",
    "    [1, 1, 1, 0, 0, 0, 0, 1, 1, 1],\n",
    "    [1, 1, 1, 1, 0, 0, 0, 0, 1, 1],\n",
    "    [1, 1, 1, 1, 1, 0, 0, 0, 0, 1],\n",
    "    [1, 1, 1, 1, 1, 1, 0, 0, 0, 0],\n",
    "    [1, 1, 1, 1, 1, 1, 1, 0, 0, 0],\n",
    "    [1, 1, 1, 1, 1, 1, 1, 1, 0, 0],\n",
    "])\n",
    "\n",
    "circular_edge_detector = np.array([\n",
    "    [0, 0, 0, 0, 0, 0, 0, 0, 0, 0],\n",
    "    [0, 0, 0, 0, 0, 0, 0, 0, 0, 0],\n",
    "    [1, 0, 0, 1, 1, 1, 1, 0, 0, 0],\n",
    "    [0, 0, 1, 1, 1, 1, 1, 0, 0, 0],\n",
    "    [0, 0, 1, 1, 1, 1, 1, 1, 0, 0],\n",
    "    [0, 0, 0, 1, 1, 1, 1, 1, 0, 0],\n",
    "    [0, 0, 0, 1, 1, 1, 1, 1, 0, 0],\n",
    "    [0, 0, 0, 0, 1, 1, 0, 0, 0, 0],\n",
    "    [0, 0, 0, 0, 0, 0, 0, 0, 0, 0],\n",
    "    [0, 0, 0, 0, 0, 0, 0, 0, 0, 0],\n",
    "])\n",
    "\n",
    "animal = 4778\n",
    "imageOne = train[animal][0]"
   ]
  },
  {
   "cell_type": "code",
   "execution_count": 168,
   "metadata": {},
   "outputs": [
    {
     "name": "stdout",
     "output_type": "stream",
     "text": [
      "[[ 17  17  17 ... 123 106  19]\n",
      " [ 17  17  17 ... 116 103   7]\n",
      " [ 17  17  17 ... 128  27  10]\n",
      " ...\n",
      " [ 66  67  72 ...  51  52  51]\n",
      " [ 62  71  74 ...  58  56  45]\n",
      " [ 69  73  70 ...  68  65  64]]\n",
      "===== ^^ =====\n",
      "[[ 17  17  17 ... 123 106  19]\n",
      " [ 17  17  17 ... 116 103   7]\n",
      " [ 17  17  17 ... 128  27  10]\n",
      " ...\n",
      " [ 66  67  72 ...  51  52  51]\n",
      " [ 62  71  74 ...  58  56  45]\n",
      " [ 69  73  70 ...  68  65  64]]\n",
      "===== ^^ =====\n",
      "[[ 17  17  17 ... 123 106  19]\n",
      " [ 17  17  17 ... 116 103   7]\n",
      " [ 17  17  17 ... 128  27  10]\n",
      " ...\n",
      " [ 66  67  72 ...  51  52  51]\n",
      " [ 62  71  74 ...  58  56  45]\n",
      " [ 69  73  70 ...  68  65  64]]\n",
      "===== ^^ =====\n",
      "[[ 17  17  17 ... 123 106  19]\n",
      " [ 17  17  17 ... 116 103   7]\n",
      " [ 17  17  17 ... 128  27  10]\n",
      " ...\n",
      " [ 66  67  72 ...  51  52  51]\n",
      " [ 62  71  74 ...  58  56  45]\n",
      " [ 69  73  70 ...  68  65  64]]\n",
      "===== ^^ =====\n",
      "[[ 17  17  17 ... 123 106  19]\n",
      " [ 17  17  17 ... 116 103   7]\n",
      " [ 17  17  17 ... 128  27  10]\n",
      " ...\n",
      " [ 66  67  72 ...  51  52  51]\n",
      " [ 62  71  74 ...  58  56  45]\n",
      " [ 69  73  70 ...  68  65  64]]\n",
      "===== ^^ =====\n",
      "[[ 17  17  17 ... 123 106  19]\n",
      " [ 17  17  17 ... 116 103   7]\n",
      " [ 17  17  17 ... 128  27  10]\n",
      " ...\n",
      " [ 66  67  72 ...  51  52  51]\n",
      " [ 62  71  74 ...  58  56  45]\n",
      " [ 69  73  70 ...  68  65  64]]\n",
      "===== ^^ =====\n"
     ]
    },
    {
     "data": {
      "text/plain": [
       "<matplotlib.image.AxesImage at 0x11f143490>"
      ]
     },
     "execution_count": 168,
     "metadata": {},
     "output_type": "execute_result"
    },
    {
     "data": {
      "image/png": "[encoded data removed]",
      "text/plain": [
       "<Figure size 432x288 with 1 Axes>"
      ]
     },
     "metadata": {},
     "output_type": "display_data"
    }
   ],
   "source": [
    "def createConvolutionalLayer(filtersArr, img):\n",
    "    convFilterArr = []\n",
    "    for filter in filtersArr:\n",
    "        convResult = convolve_2d(img, filter, padding=0, stride=1, depth=1)\n",
    "        convFilterArr.append(convResult)\n",
    "    return convFilterArr\n",
    "\n",
    "filters = [\n",
    "    side_detector_layer,\n",
    "#     reverse_side_detector_layer,\n",
    "    small_angle_detector_layer,\n",
    "    top_bottom_detector_layer,\n",
    "#     angle_detector_layer,\n",
    "#     top_detector_layer,\n",
    "#     left_knight_detector_layer,\n",
    "    right_knight_detector_layer,\n",
    "    big_edge_detector,\n",
    "#     reverse_big_edge_detector,\n",
    "    circular_edge_detector\n",
    "]\n",
    "\n",
    "convLayer = createConvolutionalLayer(filters, imageOne)\n",
    "plt.imshow(train[animal][0])"
   ]
  },
  {
   "cell_type": "code",
   "execution_count": 169,
   "metadata": {},
   "outputs": [
    {
     "data": {
      "text/plain": [
       "<matplotlib.image.AxesImage at 0x1200afc10>"
      ]
     },
     "execution_count": 169,
     "metadata": {},
     "output_type": "execute_result"
    },
    {
     "data": {
      "image/png": "[encoded data removed]",
      "text/plain": [
       "<Figure size 432x288 with 1 Axes>"
      ]
     },
     "metadata": {},
     "output_type": "display_data"
    }
   ],
   "source": [
    "plt.imshow(convLayer[0][0])"
   ]
  },
  {
   "cell_type": "code",
   "execution_count": 170,
   "metadata": {},
   "outputs": [
    {
     "data": {
      "text/plain": [
       "<matplotlib.image.AxesImage at 0x120175e50>"
      ]
     },
     "execution_count": 170,
     "metadata": {},
     "output_type": "execute_result"
    },
    {
     "data": {
      "image/png": "[encoded data removed]",
      "text/plain": [
       "<Figure size 432x288 with 1 Axes>"
      ]
     },
     "metadata": {},
     "output_type": "display_data"
    }
   ],
   "source": [
    "plt.imshow(convLayer[1][0])"
   ]
  },
  {
   "cell_type": "code",
   "execution_count": 171,
   "metadata": {},
   "outputs": [
    {
     "data": {
      "text/plain": [
       "<matplotlib.image.AxesImage at 0x1205fa110>"
      ]
     },
     "execution_count": 171,
     "metadata": {},
     "output_type": "execute_result"
    },
    {
     "data": {
      "image/png": "[encoded data removed]",
      "text/plain": [
       "<Figure size 432x288 with 1 Axes>"
      ]
     },
     "metadata": {},
     "output_type": "display_data"
    }
   ],
   "source": [
    "plt.imshow(convLayer[2][0])"
   ]
  },
  {
   "cell_type": "code",
   "execution_count": 172,
   "metadata": {},
   "outputs": [
    {
     "data": {
      "text/plain": [
       "<matplotlib.image.AxesImage at 0x1206f83d0>"
      ]
     },
     "execution_count": 172,
     "metadata": {},
     "output_type": "execute_result"
    },
    {
     "data": {
      "image/png": "[encoded data removed]",
      "text/plain": [
       "<Figure size 432x288 with 1 Axes>"
      ]
     },
     "metadata": {},
     "output_type": "display_data"
    }
   ],
   "source": [
    "plt.imshow(convLayer[3][0])"
   ]
  },
  {
   "cell_type": "code",
   "execution_count": 173,
   "metadata": {},
   "outputs": [
    {
     "data": {
      "text/plain": [
       "<matplotlib.image.AxesImage at 0x12077b650>"
      ]
     },
     "execution_count": 173,
     "metadata": {},
     "output_type": "execute_result"
    },
    {
     "data": {
      "image/png": "[encoded data removed]",
      "text/plain": [
       "<Figure size 432x288 with 1 Axes>"
      ]
     },
     "metadata": {},
     "output_type": "display_data"
    }
   ],
   "source": [
    "plt.imshow(convLayer[4][0])"
   ]
  },
  {
   "cell_type": "code",
   "execution_count": 174,
   "metadata": {},
   "outputs": [
    {
     "data": {
      "text/plain": [
       "<matplotlib.image.AxesImage at 0x1208e1d10>"
      ]
     },
     "execution_count": 174,
     "metadata": {},
     "output_type": "execute_result"
    },
    {
     "data": {
      "image/png": "[encoded data removed]",
      "text/plain": [
       "<Figure size 432x288 with 1 Axes>"
      ]
     },
     "metadata": {},
     "output_type": "display_data"
    }
   ],
   "source": [
    "plt.imshow(convLayer[5][0])"
   ]
  },
  {
   "cell_type": "code",
   "execution_count": null,
   "metadata": {},
   "outputs": [],
   "source": []
  },
  {
   "cell_type": "code",
   "execution_count": null,
   "metadata": {},
   "outputs": [],
   "source": []
  },
  {
   "cell_type": "code",
   "execution_count": null,
   "metadata": {},
   "outputs": [],
   "source": []
  },
  {
   "cell_type": "code",
   "execution_count": null,
   "metadata": {},
   "outputs": [],
   "source": []
  },
  {
   "cell_type": "code",
   "execution_count": null,
   "metadata": {},
   "outputs": [],
   "source": []
  }
 ],
 "metadata": {
  "kernelspec": {
   "display_name": "Python 2",
   "language": "python",
   "name": "python2"
  },
  "language_info": {
   "codemirror_mode": {
    "name": "ipython",
    "version": 2
   },
   "file_extension": ".py",
   "mimetype": "text/x-python",
   "name": "python",
   "nbconvert_exporter": "python",
   "pygments_lexer": "ipython2",
   "version": "2.7.14"
  }
 },
 "nbformat": 4,
 "nbformat_minor": 2
}
