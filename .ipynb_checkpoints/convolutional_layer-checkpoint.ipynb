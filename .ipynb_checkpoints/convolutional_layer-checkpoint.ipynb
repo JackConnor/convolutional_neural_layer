{
 "cells": [
  {
   "cell_type": "code",
   "execution_count": 150,
   "metadata": {},
   "outputs": [],
   "source": [
    "import matplotlib.pyplot as plt\n",
    "import matplotlib as pmimg\n",
    "import numpy as np\n",
    "import skimage\n",
    "from skimage import color\n",
    "from skimage import data\n",
    "from skimage import io\n",
    "from tqdm import tqdm\n",
    "import cv2\n",
    "\n",
    "import os \n",
    "dir_path = os.getcwd()"
   ]
  },
  {
   "cell_type": "code",
   "execution_count": 151,
   "metadata": {},
   "outputs": [],
   "source": [
    "def oneHot(imgTitle):\n",
    "    animalLabel = imgTitle.split('.')[0][-3:]\n",
    "    return animalLabel"
   ]
  },
  {
   "cell_type": "code",
   "execution_count": 227,
   "metadata": {},
   "outputs": [
    {
     "name": "stderr",
     "output_type": "stream",
     "text": [
      "100%|██████████| 25000/25000 [00:23<00:00, 1052.04it/s]\n"
     ]
    }
   ],
   "source": [
    "def createTrainSet():\n",
    "    trainingSet = []\n",
    "#     data_dir = '/Users/Jack/Documents/ml/ml_book/DogOrCat/data/practice-train'\n",
    "    data_dir = '/Users/Jack/Documents/ml/ml_book/DogOrCat/data/alternate_data/train'\n",
    "    for imgLabel in tqdm(os.listdir(data_dir)):\n",
    "        animalLabel = oneHot(imgLabel)\n",
    "        #dog = [1, 0], cat = [0,1]\n",
    "        oneHotLabel = []\n",
    "        if animalLabel == 'dog':\n",
    "            oneHotLabel = [1, 0]\n",
    "        elif animalLabel == 'cat':\n",
    "            oneHotLabel = [0, 1]\n",
    "        else:\n",
    "            print('nada')\n",
    "            continue\n",
    "        imgPath = os.path.join(data_dir, imgLabel)\n",
    "        imgObj = cv2.imread(imgPath, cv2.IMREAD_GRAYSCALE)\n",
    "        imgObj = cv2.resize(imgObj, (50, 50))\n",
    "\n",
    "        trainingSet.append([imgObj, oneHotLabel])\n",
    "    return trainingSet\n",
    "\n",
    "train = createTrainSet()"
   ]
  },
  {
   "cell_type": "code",
   "execution_count": 228,
   "metadata": {},
   "outputs": [],
   "source": [
    "# /////////////\n",
    "# BEGIN MAX POOL\n",
    "# //////////////"
   ]
  },
  {
   "cell_type": "code",
   "execution_count": 244,
   "metadata": {},
   "outputs": [],
   "source": [
    "def max_pool(img, filter, padding=0, stride=1, depth=1):\n",
    "    outputDim = len(img[0]) - len(filter[0]) + (2*padding) * stride + 1\n",
    "    resultArr = np.zeros((depth, outputDim, outputDim), dtype=int)\n",
    "    filterLength = len(filter)\n",
    "    for zIdx in range(depth):\n",
    "        for yIdx in range(outputDim):\n",
    "            for xIdx in range(outputDim):\n",
    "                window = np.zeros((filterLength, filterLength), dtype=int)\n",
    "\n",
    "                windowYIdx = 0 + yIdx\n",
    "                while windowYIdx < (len(filter) + yIdx):\n",
    "                    windowXEnd = xIdx + len(filter)\n",
    "                    currRow = np.array(img[windowYIdx][xIdx:windowXEnd])\n",
    "                    window[windowYIdx - yIdx] = currRow\n",
    "                    windowYIdx += 1\n",
    "\n",
    "                filteredWindow = window * filter\n",
    "                nodeValue = np.amax(filteredWindow)\n",
    "                resultArr[zIdx][yIdx][xIdx] = nodeValue\n",
    "    \n",
    "    return resultArr\n",
    "    #Boom!"
   ]
  },
  {
   "cell_type": "code",
   "execution_count": 260,
   "metadata": {
    "collapsed": true
   },
   "outputs": [
    {
     "ename": "NameError",
     "evalue": "name 'conv_2d' is not defined",
     "output_type": "error",
     "traceback": [
      "\u001b[0;31m---------------------------------------------------------------------------\u001b[0m",
      "\u001b[0;31mNameError\u001b[0m                                 Traceback (most recent call last)",
      "\u001b[0;32m<ipython-input-260-db50dd1284bf>\u001b[0m in \u001b[0;36m<module>\u001b[0;34m()\u001b[0m\n\u001b[1;32m     15\u001b[0m     \u001b[0;34m[\u001b[0m\u001b[0;36m1\u001b[0m\u001b[0;34m,\u001b[0m \u001b[0;36m1\u001b[0m\u001b[0;34m,\u001b[0m \u001b[0;36m1\u001b[0m\u001b[0;34m]\u001b[0m\u001b[0;34m\u001b[0m\u001b[0m\n\u001b[1;32m     16\u001b[0m ])\n\u001b[0;32m---> 17\u001b[0;31m \u001b[0mmpImg\u001b[0m \u001b[0;34m=\u001b[0m \u001b[0mmax_pool\u001b[0m\u001b[0;34m(\u001b[0m\u001b[0mconv_2d\u001b[0m\u001b[0;34m(\u001b[0m\u001b[0mtrain\u001b[0m\u001b[0;34m[\u001b[0m\u001b[0;36m5000\u001b[0m\u001b[0;34m]\u001b[0m\u001b[0;34m[\u001b[0m\u001b[0;36m0\u001b[0m\u001b[0;34m]\u001b[0m\u001b[0;34m,\u001b[0m \u001b[0mvertical_filter\u001b[0m\u001b[0;34m)\u001b[0m\u001b[0;34m[\u001b[0m\u001b[0;36m0\u001b[0m\u001b[0;34m]\u001b[0m\u001b[0;34m,\u001b[0m \u001b[0mwhole_filter\u001b[0m\u001b[0;34m,\u001b[0m \u001b[0mpadding\u001b[0m\u001b[0;34m=\u001b[0m\u001b[0;36m0\u001b[0m\u001b[0;34m,\u001b[0m \u001b[0mstride\u001b[0m\u001b[0;34m=\u001b[0m\u001b[0;36m1\u001b[0m\u001b[0;34m,\u001b[0m \u001b[0mdepth\u001b[0m\u001b[0;34m=\u001b[0m\u001b[0;36m1\u001b[0m\u001b[0;34m)\u001b[0m\u001b[0;34m\u001b[0m\u001b[0m\n\u001b[0m\u001b[1;32m     18\u001b[0m \u001b[0;32mprint\u001b[0m\u001b[0;34m(\u001b[0m\u001b[0mmpImg\u001b[0m\u001b[0;34m.\u001b[0m\u001b[0mshape\u001b[0m\u001b[0;34m)\u001b[0m\u001b[0;34m\u001b[0m\u001b[0m\n\u001b[1;32m     19\u001b[0m \u001b[0;32mprint\u001b[0m\u001b[0;34m(\u001b[0m\u001b[0mtrain\u001b[0m\u001b[0;34m[\u001b[0m\u001b[0;36m5000\u001b[0m\u001b[0;34m]\u001b[0m\u001b[0;34m[\u001b[0m\u001b[0;36m0\u001b[0m\u001b[0;34m]\u001b[0m\u001b[0;34m.\u001b[0m\u001b[0mshape\u001b[0m\u001b[0;34m)\u001b[0m\u001b[0;34m\u001b[0m\u001b[0m\n",
      "\u001b[0;31mNameError\u001b[0m: name 'conv_2d' is not defined"
     ]
    }
   ],
   "source": [
    "\n",
    "horiz_filter = np.array([\n",
    "    [1, 1, 1],\n",
    "    [0, 0, 0],\n",
    "    [-1, -1, -1],\n",
    "])\n",
    "vertical_filter = np.array([\n",
    "    [1, 0, -1],\n",
    "    [1, 0, -1],\n",
    "    [1, 0, -1]\n",
    "])\n",
    "whole_filter = np.array([\n",
    "    [1, 1, 1],\n",
    "    [1, 1, 1],\n",
    "    [1, 1, 1]\n",
    "])\n",
    "mpImg = max_pool(convolve_2d(train[5000][0], vertical_filter)[0], whole_filter, padding=0, stride=1, depth=1)\n",
    "print(mpImg.shape)\n",
    "print(train[5000][0].shape)\n",
    "plt.imshow(mpImg[0])"
   ]
  },
  {
   "cell_type": "code",
   "execution_count": 249,
   "metadata": {},
   "outputs": [
    {
     "data": {
      "text/plain": [
       "<matplotlib.image.AxesImage at 0x122e07750>"
      ]
     },
     "execution_count": 249,
     "metadata": {},
     "output_type": "execute_result"
    },
    {
     "data": {
      "image/png": "[encoded data removed]",
      "text/plain": [
       "<Figure size 432x288 with 1 Axes>"
      ]
     },
     "metadata": {},
     "output_type": "display_data"
    }
   ],
   "source": [
    "mpImg2 = max_pool(train[5000][0], vertical_filter, padding=0, stride=1, depth=1)\n",
    "plt.imshow(mpImg2[0])"
   ]
  },
  {
   "cell_type": "code",
   "execution_count": null,
   "metadata": {},
   "outputs": [],
   "source": []
  },
  {
   "cell_type": "code",
   "execution_count": 241,
   "metadata": {},
   "outputs": [],
   "source": [
    "# /////////////\n",
    "# End MAX POOL\n",
    "# //////////////"
   ]
  },
  {
   "cell_type": "code",
   "execution_count": null,
   "metadata": {},
   "outputs": [],
   "source": [
    "# /////////////\n",
    "# Begin 2d convolution\n",
    "# //////////////"
   ]
  },
  {
   "cell_type": "code",
   "execution_count": 192,
   "metadata": {},
   "outputs": [],
   "source": [
    "def convolve_2d(img, filter, padding=0, stride=1, depth=1):\n",
    "    outputDim = len(img[0]) - len(filter[0]) + (2*padding) * stride + 1\n",
    "    resultArr = np.zeros((depth, outputDim, outputDim), dtype=int)\n",
    "    filterLength = len(filter)\n",
    "    for zIdx in range(depth):\n",
    "        for yIdx in range(outputDim):\n",
    "            for xIdx in range(outputDim):\n",
    "                window = np.zeros((filterLength, filterLength), dtype=int)\n",
    "\n",
    "                windowYIdx = 0 + yIdx\n",
    "                while windowYIdx < (len(filter) + yIdx):\n",
    "                    windowXEnd = xIdx + len(filter)\n",
    "                    currRow = np.array(img[windowYIdx][xIdx:windowXEnd])\n",
    "                    window[windowYIdx - yIdx] = currRow\n",
    "                    windowYIdx += 1\n",
    "\n",
    "                filteredWindow = window * filter\n",
    "                nodeValue = np.average(filteredWindow)\n",
    "                resultArr[zIdx][yIdx][xIdx] = nodeValue\n",
    "    \n",
    "    return resultArr\n",
    "    #Boom!\n",
    "\n",
    "side_detector_layer = np.array([\n",
    "    [-1, 0, 1],\n",
    "    [-1, 0, 1],\n",
    "    [-1, 0, 1]\n",
    "])\n",
    "\n",
    "\n",
    "reverse_side_detector_layer = np.array([\n",
    "    [1, 0, -1],\n",
    "    [1, 0, -1],\n",
    "    [1, 0, -1]\n",
    "])\n",
    "\n",
    "top_bottom_detector_layer = np.array([\n",
    "    [1, 1, 1],\n",
    "    [0, 0, 0],\n",
    "    [-1, -1, 1]\n",
    "])\n",
    "\n",
    "angle_detector_layer = np.array([\n",
    "    [0, 1, 1],\n",
    "    [-1, 0, 1],\n",
    "    [-1, -1, 0]\n",
    "])\n",
    "\n",
    "\n",
    "top_detector_layer = np.array([\n",
    "    [1, 1, 1],\n",
    "    [-1, -1, -1],\n",
    "    [-1, -1, -1]\n",
    "])\n",
    "\n",
    "right_knight_detector_layer = np.array([\n",
    "    [1, 1, 1, 1, 1],\n",
    "    [1, 1, 1, 1, 1],\n",
    "    [0, 0, 0, 1, 1],\n",
    "    [0, 0, 0, 1, 1],\n",
    "    [0, 0, 0, 1, 1]\n",
    "]);\n",
    "small_angle_detector_layer = np.array([\n",
    "    [1, 1, 0],\n",
    "    [1, 0, 1],\n",
    "    [0, 1, 1],\n",
    "])\n",
    "\n",
    "\n",
    "left_knight_detector_layer = np.array([\n",
    "    [1, 1, 1, 1, 1],\n",
    "    [1, 1, 1, 1, 1],\n",
    "    [1, 1, 0, 0, 0],\n",
    "    [1, 1, 0, 0, 0],\n",
    "    [1, 1, 0, 0, 0]\n",
    "]);\n",
    "\n",
    "big_edge_detector = np.array([\n",
    "    [1, 1, 1, 1, 1, 1, 1, 1, 0, 0],\n",
    "    [1, 1, 1, 1, 1, 1, 1, 0, 0, 0],\n",
    "    [1, 1, 1, 1, 1, 1, 0, 0, 0, 0],\n",
    "    [1, 1, 1, 1, 1, 0, 0, 0, 0, 1],\n",
    "    [1, 1, 1, 1, 0, 0, 0, 0, 1, 1],\n",
    "    [1, 1, 1, 0, 0, 0, 0, 1, 1, 1],\n",
    "    [1, 1, 0, 0, 0, 0, 1, 1, 1, 1],\n",
    "    [1, 0, 0, 0, 0, 1, 1, 1, 1, 1],\n",
    "    [0, 0, 0, 0, 1, 1, 1, 1, 1, 1],\n",
    "    [0, 0, 0, 1, 1, 1, 1, 1, 1, 1],\n",
    "])\n",
    "\n",
    "\n",
    "reverse_big_edge_detector = np.array([\n",
    "    [0, 0, 0, 1, 1, 1, 1, 1, 1, 1],\n",
    "    [0, 0, 0, 0, 1, 1, 1, 1, 1, 1],\n",
    "    [1, 0, 0, 0, 0, 1, 1, 1, 1, 1],\n",
    "    [1, 1, 0, 0, 0, 0, 1, 1, 1, 1],\n",
    "    [1, 1, 1, 0, 0, 0, 0, 1, 1, 1],\n",
    "    [1, 1, 1, 1, 0, 0, 0, 0, 1, 1],\n",
    "    [1, 1, 1, 1, 1, 0, 0, 0, 0, 1],\n",
    "    [1, 1, 1, 1, 1, 1, 0, 0, 0, 0],\n",
    "    [1, 1, 1, 1, 1, 1, 1, 0, 0, 0],\n",
    "    [1, 1, 1, 1, 1, 1, 1, 1, 0, 0],\n",
    "])\n",
    "\n",
    "circular_edge_detector = np.array([\n",
    "    [0, 0, 0, 0, 0, 0, 0, 0, 0, 0],\n",
    "    [0, 0, 0, 0, 0, 0, 0, 0, 0, 0],\n",
    "    [1, 0, 0, 1, 1, 1, 1, 0, 0, 0],\n",
    "    [0, 0, 1, 1, 1, 1, 1, 0, 0, 0],\n",
    "    [0, 0, 1, 1, 1, 1, 1, 1, 0, 0],\n",
    "    [0, 0, 0, 1, 1, 1, 1, 1, 0, 0],\n",
    "    [0, 0, 0, 1, 1, 1, 1, 1, 0, 0],\n",
    "    [0, 0, 0, 0, 1, 1, 0, 0, 0, 0],\n",
    "    [0, 0, 0, 0, 0, 0, 0, 0, 0, 0],\n",
    "    [0, 0, 0, 0, 0, 0, 0, 0, 0, 0],\n",
    "])\n",
    "\n",
    "animal = 4773\n",
    "imageOne = train[animal][0]"
   ]
  },
  {
   "cell_type": "code",
   "execution_count": 193,
   "metadata": {},
   "outputs": [
    {
     "data": {
      "text/plain": [
       "<matplotlib.image.AxesImage at 0x1217969d0>"
      ]
     },
     "execution_count": 193,
     "metadata": {},
     "output_type": "execute_result"
    },
    {
     "data": {
      "image/png": "[encoded data removed]",
      "text/plain": [
       "<Figure size 432x288 with 1 Axes>"
      ]
     },
     "metadata": {},
     "output_type": "display_data"
    }
   ],
   "source": [
    "def createConvolutionalLayer(filtersArr, img):\n",
    "    convFilterArr = []\n",
    "    for filter in filtersArr:\n",
    "        convResult = convolve_2d(img, filter, padding=0, stride=1, depth=1)\n",
    "        convFilterArr.append(convResult)\n",
    "    return convFilterArr\n",
    "\n",
    "filters = [\n",
    "    side_detector_layer,\n",
    "#     reverse_side_detector_layer,\n",
    "    small_angle_detector_layer,\n",
    "    top_bottom_detector_layer,\n",
    "#     angle_detector_layer,\n",
    "#     top_detector_layer,\n",
    "#     left_knight_detector_layer,\n",
    "    right_knight_detector_layer,\n",
    "    big_edge_detector,\n",
    "#     reverse_big_edge_detector,\n",
    "    circular_edge_detector\n",
    "]\n",
    "\n",
    "convLayer = createConvolutionalLayer(filters, imageOne)\n",
    "plt.imshow(train[animal][0])"
   ]
  },
  {
   "cell_type": "code",
   "execution_count": 252,
   "metadata": {},
   "outputs": [
    {
     "data": {
      "text/plain": [
       "<matplotlib.image.AxesImage at 0x122fd7410>"
      ]
     },
     "execution_count": 252,
     "metadata": {},
     "output_type": "execute_result"
    },
    {
     "data": {
      "image/png": "[encoded data removed]",
      "text/plain": [
       "<Figure size 432x288 with 1 Axes>"
      ]
     },
     "metadata": {},
     "output_type": "display_data"
    }
   ],
   "source": [
    "plt.imshow(convLayer[0][0])\n",
    "# plt.imshow(max_pool(convLayer[0][0], whole_filter)[0])"
   ]
  },
  {
   "cell_type": "code",
   "execution_count": 255,
   "metadata": {},
   "outputs": [
    {
     "data": {
      "text/plain": [
       "<matplotlib.image.AxesImage at 0x12330ee90>"
      ]
     },
     "execution_count": 255,
     "metadata": {},
     "output_type": "execute_result"
    },
    {
     "data": {
      "image/png": "[encoded data removed]",
      "text/plain": [
       "<Figure size 432x288 with 1 Axes>"
      ]
     },
     "metadata": {},
     "output_type": "display_data"
    }
   ],
   "source": [
    "plt.imshow(convLayer[1][0])\n",
    "# plt.imshow(max_pool(convLayer[1][0], whole_filter)[0])"
   ]
  },
  {
   "cell_type": "code",
   "execution_count": 196,
   "metadata": {},
   "outputs": [
    {
     "data": {
      "text/plain": [
       "<matplotlib.image.AxesImage at 0x121a6c610>"
      ]
     },
     "execution_count": 196,
     "metadata": {},
     "output_type": "execute_result"
    },
    {
     "data": {
      "image/png": "[encoded data removed]",
      "text/plain": [
       "<Figure size 432x288 with 1 Axes>"
      ]
     },
     "metadata": {},
     "output_type": "display_data"
    }
   ],
   "source": [
    "plt.imshow(convLayer[2][0])"
   ]
  },
  {
   "cell_type": "code",
   "execution_count": 197,
   "metadata": {},
   "outputs": [
    {
     "data": {
      "text/plain": [
       "<matplotlib.image.AxesImage at 0x121b6a8d0>"
      ]
     },
     "execution_count": 197,
     "metadata": {},
     "output_type": "execute_result"
    },
    {
     "data": {
      "image/png": "[encoded data removed]",
      "text/plain": [
       "<Figure size 432x288 with 1 Axes>"
      ]
     },
     "metadata": {},
     "output_type": "display_data"
    }
   ],
   "source": [
    "plt.imshow(convLayer[3][0])"
   ]
  },
  {
   "cell_type": "code",
   "execution_count": 198,
   "metadata": {},
   "outputs": [
    {
     "data": {
      "text/plain": [
       "<matplotlib.image.AxesImage at 0x121becad0>"
      ]
     },
     "execution_count": 198,
     "metadata": {},
     "output_type": "execute_result"
    },
    {
     "data": {
      "image/png": "[encoded data removed]",
      "text/plain": [
       "<Figure size 432x288 with 1 Axes>"
      ]
     },
     "metadata": {},
     "output_type": "display_data"
    }
   ],
   "source": [
    "plt.imshow(convLayer[4][0])"
   ]
  },
  {
   "cell_type": "code",
   "execution_count": 199,
   "metadata": {},
   "outputs": [
    {
     "data": {
      "text/plain": [
       "<matplotlib.image.AxesImage at 0x121d41210>"
      ]
     },
     "execution_count": 199,
     "metadata": {},
     "output_type": "execute_result"
    },
    {
     "data": {
      "image/png": "[encoded data removed]",
      "text/plain": [
       "<Figure size 432x288 with 1 Axes>"
      ]
     },
     "metadata": {},
     "output_type": "display_data"
    }
   ],
   "source": [
    "plt.imshow(convLayer[5][0])"
   ]
  },
  {
   "cell_type": "code",
   "execution_count": 200,
   "metadata": {},
   "outputs": [],
   "source": [
    "# /////////////\n",
    "# End 2d convolution\n",
    "# //////////////"
   ]
  },
  {
   "cell_type": "code",
   "execution_count": null,
   "metadata": {},
   "outputs": [],
   "source": []
  },
  {
   "cell_type": "code",
   "execution_count": null,
   "metadata": {},
   "outputs": [],
   "source": []
  },
  {
   "cell_type": "code",
   "execution_count": null,
   "metadata": {},
   "outputs": [],
   "source": []
  },
  {
   "cell_type": "code",
   "execution_count": null,
   "metadata": {},
   "outputs": [],
   "source": []
  }
 ],
 "metadata": {
  "kernelspec": {
   "display_name": "Python 2",
   "language": "python",
   "name": "python2"
  },
  "language_info": {
   "codemirror_mode": {
    "name": "ipython",
    "version": 2
   },
   "file_extension": ".py",
   "mimetype": "text/x-python",
   "name": "python",
   "nbconvert_exporter": "python",
   "pygments_lexer": "ipython2",
   "version": "2.7.14"
  }
 },
 "nbformat": 4,
 "nbformat_minor": 2
}
